{
 "cells": [
  {
   "cell_type": "markdown",
   "metadata": {
    "colab_type": "text",
    "id": "ZULwOdf9CDP8"
   },
   "source": [
    "# Sistemas de clasificación\n",
    "\n",
    "Scikit-Learn proporciona muchas funciones auxiliares para descargar conjuntos de datos populares. El siguiente código recupera el conjunto de datos MNIST."
   ]
  },
  {
   "cell_type": "code",
   "execution_count": 1,
   "metadata": {
    "colab": {
     "base_uri": "https://localhost:8080/",
     "height": 34
    },
    "colab_type": "code",
    "executionInfo": {
     "elapsed": 25760,
     "status": "ok",
     "timestamp": 1598037612480,
     "user": {
      "displayName": "Leonel Fernández",
      "photoUrl": "https://lh3.googleusercontent.com/a-/AOh14GgT0Ke0rCvzSMy3UCWS6KZjvcm2L6_jITkfBs3WGA=s64",
      "userId": "14222787014046437440"
     },
     "user_tz": 300
    },
    "id": "fetqWmf-Cj6c",
    "outputId": "c6dfe450-1770-4ef2-888c-51a414ec536e"
   },
   "outputs": [
    {
     "data": {
      "text/plain": [
       "dict_keys(['data', 'target', 'frame', 'categories', 'feature_names', 'target_names', 'DESCR', 'details', 'url'])"
      ]
     },
     "execution_count": 1,
     "metadata": {},
     "output_type": "execute_result"
    }
   ],
   "source": [
    "from sklearn.datasets import fetch_openml\n",
    "mnist = fetch_openml('mnist_784', version=1)\n",
    "mnist.keys()"
   ]
  },
  {
   "cell_type": "markdown",
   "metadata": {
    "colab_type": "text",
    "id": "SNzUSHQeDMls"
   },
   "source": [
    "Los dataset de Scikit-Learn generalmente tienen una estructura de diccionario similar, que incluyendo lo siguiente:\n",
    "\n",
    "- Una clave `DESCR` que describe el conjunto de datos.\n",
    "- Una clave `DATA` que contiene un array con una fila por cada instancia y una columna por cada característica.\n",
    "- Una clave `TARGET` que contiene un array con las etiquetas."
   ]
  },
  {
   "cell_type": "code",
   "execution_count": 2,
   "metadata": {
    "colab": {
     "base_uri": "https://localhost:8080/",
     "height": 52
    },
    "colab_type": "code",
    "executionInfo": {
     "elapsed": 25724,
     "status": "ok",
     "timestamp": 1598037612487,
     "user": {
      "displayName": "Leonel Fernández",
      "photoUrl": "https://lh3.googleusercontent.com/a-/AOh14GgT0Ke0rCvzSMy3UCWS6KZjvcm2L6_jITkfBs3WGA=s64",
      "userId": "14222787014046437440"
     },
     "user_tz": 300
    },
    "id": "oHBgodR1GZdx",
    "outputId": "cfaf21ac-a5ea-4fa4-bd10-26fe1939551b"
   },
   "outputs": [
    {
     "name": "stdout",
     "output_type": "stream",
     "text": [
      "(70000, 784)\n",
      "(70000,)\n"
     ]
    }
   ],
   "source": [
    "X, y = mnist['data'], mnist['target']\n",
    "print(X.shape)\n",
    "print(y.shape)"
   ]
  },
  {
   "cell_type": "markdown",
   "metadata": {
    "colab_type": "text",
    "id": "JzAjkbZjG5He"
   },
   "source": [
    "Hay 70,000 imágenes, y cada imagen tiene 784 características, esto se debe a que cada imagen es de 28 x 28 píxeles y cada píxel va de 0 a 255.\n",
    "\n",
    "Para poder ver los dígitos, lo único que hay que hacer es cambiar el vector a una matriz de 28 x 28 y mostrarlo con la función `imshow()` de Matplotlib."
   ]
  },
  {
   "cell_type": "code",
   "execution_count": 3,
   "metadata": {
    "colab": {
     "base_uri": "https://localhost:8080/",
     "height": 265
    },
    "colab_type": "code",
    "executionInfo": {
     "elapsed": 862,
     "status": "ok",
     "timestamp": 1598026938431,
     "user": {
      "displayName": "Leonel Fernández",
      "photoUrl": "https://lh3.googleusercontent.com/a-/AOh14GgT0Ke0rCvzSMy3UCWS6KZjvcm2L6_jITkfBs3WGA=s64",
      "userId": "14222787014046437440"
     },
     "user_tz": 300
    },
    "id": "Sozk9txgHqwt",
    "outputId": "49c488f0-9957-4570-ffe2-3cf69e727239"
   },
   "outputs": [
    {
     "data": {
      "image/png": "[encoded data removed]",
      "text/plain": [
       "<Figure size 432x288 with 1 Axes>"
      ]
     },
     "metadata": {
      "needs_background": "light"
     },
     "output_type": "display_data"
    },
    {
     "name": "stdout",
     "output_type": "stream",
     "text": [
      "Number:  5\n"
     ]
    }
   ],
   "source": [
    "import matplotlib as mpl\n",
    "import matplotlib.pyplot as plt\n",
    "\n",
    "def show_number(number):\n",
    "  some_digit = X[number]\n",
    "  some_digit_image = some_digit.reshape(28,28)\n",
    "\n",
    "  plt.imshow(some_digit_image, cmap='binary')\n",
    "  plt.axis('off')\n",
    "  plt.show()\n",
    "\n",
    "  print('Number: ', y[number])\n",
    "\n",
    "show_number(0)"
   ]
  },
  {
   "cell_type": "markdown",
   "metadata": {
    "colab_type": "text",
    "id": "TnuxIyCQIxjs"
   },
   "source": [
    "__Nota:__ la etiqueta es un string, la mayoría de algoritmos de Machine Learning esperan números, entonces, hay que convertir las etiquetas a enteros. "
   ]
  },
  {
   "cell_type": "code",
   "execution_count": 4,
   "metadata": {
    "colab": {},
    "colab_type": "code",
    "executionInfo": {
     "elapsed": 23422,
     "status": "ok",
     "timestamp": 1598037612491,
     "user": {
      "displayName": "Leonel Fernández",
      "photoUrl": "https://lh3.googleusercontent.com/a-/AOh14GgT0Ke0rCvzSMy3UCWS6KZjvcm2L6_jITkfBs3WGA=s64",
      "userId": "14222787014046437440"
     },
     "user_tz": 300
    },
    "id": "V3LMFKI9JMAZ"
   },
   "outputs": [],
   "source": [
    "import numpy as np\n",
    "\n",
    "y = y.astype(np.uint8)"
   ]
  },
  {
   "cell_type": "markdown",
   "metadata": {
    "colab_type": "text",
    "id": "mCc9_IgzJnuN"
   },
   "source": [
    "Primero se debe crear un conjunto de entrenamiento y prueba antes de empezar a inspeccionar los datos.\n",
    "\n",
    "El conjunto de pruebas ya está barajado lo que garantiza que todos los pliegues de validación cruzada serán similares.\n",
    "\n",
    "Algunos algoritmos de aprendizaje son sensibles al orden de las instancias de entrenamiento y funcionan mal si obtienen muchas instancias similares seguidas."
   ]
  },
  {
   "cell_type": "code",
   "execution_count": 5,
   "metadata": {
    "colab": {},
    "colab_type": "code",
    "executionInfo": {
     "elapsed": 1442,
     "status": "ok",
     "timestamp": 1598037613959,
     "user": {
      "displayName": "Leonel Fernández",
      "photoUrl": "https://lh3.googleusercontent.com/a-/AOh14GgT0Ke0rCvzSMy3UCWS6KZjvcm2L6_jITkfBs3WGA=s64",
      "userId": "14222787014046437440"
     },
     "user_tz": 300
    },
    "id": "3UvzvhegKSJ0"
   },
   "outputs": [],
   "source": [
    "X_train, X_test, y_train, y_test = X[:60000], X[60000:], y[:60000], y[60000:]"
   ]
  },
  {
   "cell_type": "markdown",
   "metadata": {
    "colab_type": "text",
    "id": "BzvM67CQKqMZ"
   },
   "source": [
    "## Entrenamiento de un clasificador binario\n",
    "\n",
    "Simplificando el problema se va a tratar de identificar un solo dígito (es un 5 o no es un 5).\n",
    "\n",
    "Ahora se debe eligir un buen clasificador y entrenarlo. Un buen lugar para empezar es un clasificador _Stochastic Gradient Descent_ (SGD) usando la clase `SGDClassifier` de Sckit-Learn.\n",
    "\n",
    "La ventaja del Descenso de Gradiente Estocástico es que puede ser capaz de manejar conjuntos de datos muy grandes de manera eficiente, esto se debe en parte a que tratra con instancias de capacitación de forma independiente, una a la vez (lo que también hace que sea muy adecuado para el aprendizaje en línea).\n",
    "\n",
    "__Nota:__ los clasificadores SGD se basan en la aleatoriedad durante el entrenamiento (de ahí el nombre de estocástico). Si se desean resultados reproducibles se debe configurar el parámetro `random_state`."
   ]
  },
  {
   "cell_type": "code",
   "execution_count": 6,
   "metadata": {
    "colab": {
     "base_uri": "https://localhost:8080/",
     "height": 141
    },
    "colab_type": "code",
    "executionInfo": {
     "elapsed": 52959,
     "status": "ok",
     "timestamp": 1597963197950,
     "user": {
      "displayName": "Leonel Fernández",
      "photoUrl": "https://lh3.googleusercontent.com/a-/AOh14GgT0Ke0rCvzSMy3UCWS6KZjvcm2L6_jITkfBs3WGA=s64",
      "userId": "14222787014046437440"
     },
     "user_tz": 300
    },
    "id": "mqZQaDTsMheU",
    "outputId": "86b2dc46-1b15-4407-b68b-c187f93755a2"
   },
   "outputs": [
    {
     "data": {
      "text/plain": [
       "SGDClassifier(random_state=42)"
      ]
     },
     "execution_count": 6,
     "metadata": {},
     "output_type": "execute_result"
    }
   ],
   "source": [
    "y_train_5 = (y_train == 5) #True para todos los 5, Falso para todos los otros dígitos\n",
    "y_test_5 = (y_test == 5)\n",
    "\n",
    "from sklearn.linear_model import SGDClassifier\n",
    "\n",
    "sgd_clf = SGDClassifier(random_state=42)\n",
    "sgd_clf.fit(X_train, y_train_5)"
   ]
  },
  {
   "cell_type": "code",
   "execution_count": 7,
   "metadata": {
    "colab": {
     "base_uri": "https://localhost:8080/",
     "height": 283
    },
    "colab_type": "code",
    "executionInfo": {
     "elapsed": 52909,
     "status": "ok",
     "timestamp": 1597963197957,
     "user": {
      "displayName": "Leonel Fernández",
      "photoUrl": "https://lh3.googleusercontent.com/a-/AOh14GgT0Ke0rCvzSMy3UCWS6KZjvcm2L6_jITkfBs3WGA=s64",
      "userId": "14222787014046437440"
     },
     "user_tz": 300
    },
    "id": "i3ZOuMvkSYkG",
    "outputId": "c2b29e20-4142-446c-a9b3-ea319b0ae106"
   },
   "outputs": [
    {
     "name": "stdout",
     "output_type": "stream",
     "text": [
      "El número es 5\n"
     ]
    },
    {
     "data": {
      "image/png": "[encoded data removed]",
      "text/plain": [
       "<Figure size 432x288 with 1 Axes>"
      ]
     },
     "metadata": {
      "needs_background": "light"
     },
     "output_type": "display_data"
    },
    {
     "name": "stdout",
     "output_type": "stream",
     "text": [
      "Number:  5\n"
     ]
    }
   ],
   "source": [
    "print('El número es 5' if sgd_clf.predict(X_train[35].reshape(1,-1)) else 'El número no es 5')\n",
    "show_number(35)"
   ]
  },
  {
   "cell_type": "markdown",
   "metadata": {
    "colab_type": "text",
    "id": "sOjQp4KBIktI"
   },
   "source": [
    "## Medidas de desempeño\n",
    "\n",
    "La evaluación de un clasificador es a menudo significativamente más complicado que la evaluación de un regresor.\n",
    "\n",
    "### Medición de precisión utilizando validación cruzada\n",
    "\n",
    "Una buena forma de evaluar un modelo es usar la validación cruzada.\n",
    "\n",
    "#### Implementación de validación cruzada\n",
    "\n",
    "Ocasionalmente se necesitará más control sobre el proceso de validación cruzada que lo que Scikit-Learn proporciona de forma inmediata.\n",
    "\n",
    "En la clase `sklearn.model_selection.StratifiedKFold` realiza un muestreo estratificado para producir pliegues que contengan una proporción representativa de cada clase. En cada iteración, el código crea un clon del clasificador, entrena ese clon en los pliegues de entrenamiento y hace predicciones en el pliegue de prueba. Luego cuenta el número de predicciones correctas y genera la proporción de predicciones correctas."
   ]
  },
  {
   "cell_type": "code",
   "execution_count": 8,
   "metadata": {
    "colab": {
     "base_uri": "https://localhost:8080/",
     "height": 141
    },
    "colab_type": "code",
    "executionInfo": {
     "elapsed": 112755,
     "status": "ok",
     "timestamp": 1597963257857,
     "user": {
      "displayName": "Leonel Fernández",
      "photoUrl": "https://lh3.googleusercontent.com/a-/AOh14GgT0Ke0rCvzSMy3UCWS6KZjvcm2L6_jITkfBs3WGA=s64",
      "userId": "14222787014046437440"
     },
     "user_tz": 300
    },
    "id": "Oez7-NWlFbdr",
    "outputId": "7ed46fa7-044f-4f2b-d711-967609cb39f6"
   },
   "outputs": [
    {
     "name": "stderr",
     "output_type": "stream",
     "text": [
      "/home/leonel/.local/lib/python3.8/site-packages/sklearn/model_selection/_split.py:293: FutureWarning: Setting a random_state has no effect since shuffle is False. This will raise an error in 0.24. You should leave random_state to its default (None), or set shuffle=True.\n",
      "  warnings.warn(\n"
     ]
    },
    {
     "name": "stdout",
     "output_type": "stream",
     "text": [
      "0.95035\n",
      "0.96035\n",
      "0.9604\n"
     ]
    },
    {
     "data": {
      "text/plain": [
       "array([0.95035, 0.96035, 0.9604 ])"
      ]
     },
     "execution_count": 8,
     "metadata": {},
     "output_type": "execute_result"
    }
   ],
   "source": [
    "from sklearn.model_selection import StratifiedKFold\n",
    "from sklearn.base import clone\n",
    "\n",
    "skfolds = StratifiedKFold(n_splits=3, random_state=42)\n",
    "\n",
    "for train_index, test_index in skfolds.split(X_train, y_train_5):\n",
    "  clone_clf = clone(sgd_clf)\n",
    "  X_train_folds = X_train[train_index]\n",
    "  y_train_folds = y_train_5[train_index]\n",
    "  X_test_fold = X_train[test_index]\n",
    "  y_test_fold = y_train_5[test_index]\n",
    "\n",
    "  clone_clf.fit(X_train_folds, y_train_folds)\n",
    "  y_pred = clone_clf.predict(X_test_fold)\n",
    "  n_correct = sum(y_pred == y_test_fold)\n",
    "  print(n_correct / len(y_pred))\n",
    "\n",
    "from sklearn.model_selection import cross_val_score\n",
    "cross_val_score(sgd_clf, X_train, y_train_5, cv=3, scoring=\"accuracy\")"
   ]
  },
  {
   "cell_type": "markdown",
   "metadata": {
    "colab_type": "text",
    "id": "jCVxXTXZSFUE"
   },
   "source": [
    "`\"accuracy\"` no es la medida de rendimiento preferida de los clasificadores, especialmente cuando se trata de un conjunto de datos sesgados (es decir, cuando algunas clases son mucho más frecuentes que otras). Por ejemplo en este clasificador se puede observar que si no se entrena un modelo y medimos la precisión nos dará un 90%, ya que el 90% de los números no son 5."
   ]
  },
  {
   "cell_type": "code",
   "execution_count": 9,
   "metadata": {
    "colab": {
     "base_uri": "https://localhost:8080/",
     "height": 34
    },
    "colab_type": "code",
    "executionInfo": {
     "elapsed": 113015,
     "status": "ok",
     "timestamp": 1597963258171,
     "user": {
      "displayName": "Leonel Fernández",
      "photoUrl": "https://lh3.googleusercontent.com/a-/AOh14GgT0Ke0rCvzSMy3UCWS6KZjvcm2L6_jITkfBs3WGA=s64",
      "userId": "14222787014046437440"
     },
     "user_tz": 300
    },
    "id": "PLxfdeQ6QkYW",
    "outputId": "e6db1ea2-9b77-4e46-d46f-88d6e851c311"
   },
   "outputs": [
    {
     "data": {
      "text/plain": [
       "array([0.91125, 0.90855, 0.90915])"
      ]
     },
     "execution_count": 9,
     "metadata": {},
     "output_type": "execute_result"
    }
   ],
   "source": [
    "from sklearn.base import BaseEstimator\n",
    "\n",
    "class Never5Classifier(BaseEstimator):\n",
    "  def fit(self, X, y = None):\n",
    "    return self\n",
    "  def predict(self, X):\n",
    "    return np.zeros((len(X), 1), dtype=bool)\n",
    "\n",
    "never_5_clf = Never5Classifier()\n",
    "cross_val_score(never_5_clf, X_train, y_train_5, cv=3, scoring=\"accuracy\")"
   ]
  },
  {
   "cell_type": "markdown",
   "metadata": {
    "colab_type": "text",
    "id": "rgag8HoPS1ep"
   },
   "source": [
    "### Matriz de confusión\n",
    "\n",
    "Una forma mucho mejor de evaluar el rendimiento de un clasificador es mirar la matriz de confusión: contar la cantidad de veces que las instancias de la clase A se clasifican como clase B y viceversa.\n",
    "\n",
    "La matriz de confusión tiene la siguiente forma:\n",
    "\n",
    " Valor   | Positivo  | Negativo\n",
    "---------|-----------|----------\n",
    "Positivo | $TP$      | $FP$\n",
    "Negativo | $FN$      | $TN$\n",
    "\n",
    "Donde:\n",
    "- $TP$ son los verdaderos positivos: se predijo positivo y es cierto.\n",
    "- $TN$ son los verdaderos negativos: se predijo negativo y es cierto.\n",
    "- $FP$ son los falsos positivos: se predijo positivo y es falso.\n",
    "- $FN$ son los falsos negativos: se predijo negativo y es falso.\n",
    "\n",
    "Para calcular la matriz de confusión, primero se debe tener un conjunto  de predicciones para que se pueda comparar con los objetivos reales. Se puede usar la función `sklearn.model_selection.cross_val_predict` al igual que `cross_val_score` realiza la validación cruzada de K-fold, pero en lugar de devolver los puntajes de evaluación devuelve las predicciones hechas en cada pliegue de prueba. \n",
    "\n",
    "Luego para obtener la matriz de confusión se utiliza la función `sklearn.metrics.confusion_matrix`, donde cada fila representa una clase real, mientras que cada columna representa una clase predicha."
   ]
  },
  {
   "cell_type": "code",
   "execution_count": 10,
   "metadata": {
    "colab": {
     "base_uri": "https://localhost:8080/",
     "height": 52
    },
    "colab_type": "code",
    "executionInfo": {
     "elapsed": 143274,
     "status": "ok",
     "timestamp": 1597963288487,
     "user": {
      "displayName": "Leonel Fernández",
      "photoUrl": "https://lh3.googleusercontent.com/a-/AOh14GgT0Ke0rCvzSMy3UCWS6KZjvcm2L6_jITkfBs3WGA=s64",
      "userId": "14222787014046437440"
     },
     "user_tz": 300
    },
    "id": "TNA1V-UrY_2M",
    "outputId": "fcc9d43b-5f18-4b23-ba1f-61bf1fbc4e61"
   },
   "outputs": [
    {
     "data": {
      "text/plain": [
       "array([[53892,   687],\n",
       "       [ 1891,  3530]])"
      ]
     },
     "execution_count": 10,
     "metadata": {},
     "output_type": "execute_result"
    }
   ],
   "source": [
    "from sklearn.model_selection import cross_val_predict\n",
    "from sklearn.metrics import confusion_matrix\n",
    "\n",
    "y_train_pred = cross_val_predict(sgd_clf, X_train, y_train_5, cv=3)\n",
    "confusion_matrix(y_train_5, y_train_pred)"
   ]
  },
  {
   "cell_type": "markdown",
   "metadata": {
    "colab_type": "text",
    "id": "Ao6Mf7z2WCRo"
   },
   "source": [
    "<mark>Volver a repasar.</mark>\n",
    "\n",
    "\n",
    "La matriz de confusión brinda mucha información, pero a veces se puede preferir una métrica más concisa. Un aspecto interesante es la precisión de las predicciones positivas; esto se llama _precisión del clasificador_. De todas las clases ___positivas___, cuántas se pronosticaron correctamente.\n",
    "\n",
    "$$\n",
    "Precisión = \\frac{TP}{TP + FP}\n",
    "$$\n",
    "\n",
    "- $TP$ es el número de verdaderos positivos\n",
    "- $FP$ es la cantidad de falsos positivos.\n",
    "\n",
    "Una forma trivial de tener una precisión perfecta es hacer una sola predicción positiva y asegurarse de que sea correcta (precisión = 1/1  = 100%), pero esto no es muy útil, ya que el clasificador ingorará todas las instancias positivas excepto una. Por lo tanto, la precisión generalmente se usa junto con otra métrica llamada _exhaustividad_, _sensibilidad_, _tasa positiva verdadera (TPR)_. De todas las clases, cuántas se pronosticaron correctamente.\n",
    "\n",
    "$$\n",
    "Exhaustividad = \\frac{TP}{TP + FN}\n",
    "$$\n",
    "\n",
    "- $FN$ es el número de falsos negativos.\n",
    "\n",
    "Scikit-Learn proporciona varias funciones para calcular las métricas del clasificador, incluida la precisión y la recuperación.\n",
    "\n",
    "A menudo es conveniente combinar precisión y exhaustividad en una sola métrica llamada puntuación $F_1$ que es el significado armónico de precisión y exhaustividad, mientras que la media regular trata todos los valores por igual, la media armónica da mucho más peso a los valores bajos. Como resultado, el clasificador obtendrá una puntuación $F_1$ alta si tanto la exhaustividad como la precisión son altos.\n",
    "\n",
    "$$\n",
    "F_1=\\frac{2}{\\frac{1}{precisión}+\\frac{1}{exhaustividad}}=2*\\frac{precisión*exhaustividad}{precisión+exhaustividad}=\\frac{TP}{TP+\\frac{FN+FP}{2}} \n",
    "$$\n",
    "\n",
    "Para calcular el valor de $F_1$ simplemente se puede utilizar la función `f1_score`."
   ]
  },
  {
   "cell_type": "code",
   "execution_count": 11,
   "metadata": {
    "colab": {
     "base_uri": "https://localhost:8080/",
     "height": 69
    },
    "colab_type": "code",
    "executionInfo": {
     "elapsed": 143227,
     "status": "ok",
     "timestamp": 1597963288493,
     "user": {
      "displayName": "Leonel Fernández",
      "photoUrl": "https://lh3.googleusercontent.com/a-/AOh14GgT0Ke0rCvzSMy3UCWS6KZjvcm2L6_jITkfBs3WGA=s64",
      "userId": "14222787014046437440"
     },
     "user_tz": 300
    },
    "id": "D_a6B_lPr56r",
    "outputId": "040dd230-e7e0-417f-d01c-e568036f7f27"
   },
   "outputs": [
    {
     "name": "stdout",
     "output_type": "stream",
     "text": [
      "0.8370879772350012\n",
      "0.6511713705958311\n",
      "0.7325171197343846\n"
     ]
    }
   ],
   "source": [
    "from sklearn.metrics import precision_score, recall_score, f1_score\n",
    "print(precision_score(y_train_5, y_train_pred))\n",
    "print(recall_score(y_train_5, y_train_pred))\n",
    "print(f1_score(y_train_5, y_train_pred))"
   ]
  },
  {
   "cell_type": "markdown",
   "metadata": {
    "colab_type": "text",
    "id": "F4ovXmI_8RVU"
   },
   "source": [
    "### Compensación de precision / exhaustividad\n",
    "\n",
    "Los clasificadores como `SGDClassifier` toma las decisiones basado en una función de precisión, si el puntaje calculado es mayor que el umbral se asigna la instancia a la clase positiva, de lo contrario, se asigna a la clase negativa.\n",
    "\n",
    "Scikit-Learn no permite establecer el umbral directamente, pero da acceso a los puntajes de decisión que utiliza para hacer las predicciones con el método `decision_function()` que devuelve una puntuación por cada instancia, y luego se puede usar cualquier umbral para hacer predicciones basadas en esas puntuaciones."
   ]
  },
  {
   "cell_type": "code",
   "execution_count": 12,
   "metadata": {
    "colab": {
     "base_uri": "https://localhost:8080/",
     "height": 69
    },
    "colab_type": "code",
    "executionInfo": {
     "elapsed": 143175,
     "status": "ok",
     "timestamp": 1597963288499,
     "user": {
      "displayName": "Leonel Fernández",
      "photoUrl": "https://lh3.googleusercontent.com/a-/AOh14GgT0Ke0rCvzSMy3UCWS6KZjvcm2L6_jITkfBs3WGA=s64",
      "userId": "14222787014046437440"
     },
     "user_tz": 300
    },
    "id": "R3jVnsDz9oT3",
    "outputId": "b5a55c46-8f2b-44ed-9c18-d30f32e7f648"
   },
   "outputs": [
    {
     "name": "stdout",
     "output_type": "stream",
     "text": [
      "[2164.22030239]\n",
      "[ True]\n",
      "[False]\n"
     ]
    }
   ],
   "source": [
    "y_scores = sgd_clf.decision_function(X_train[0].reshape(1,-1))\n",
    "print(y_scores)\n",
    "threshold = 0 #SGDClassifier usa un umbral igual a 0\n",
    "y_some_digit_pred = (y_scores > threshold)\n",
    "print(y_some_digit_pred)\n",
    "threshold = 8000\n",
    "y_some_digit_pred = (y_scores > threshold)\n",
    "print(y_some_digit_pred)"
   ]
  },
  {
   "cell_type": "markdown",
   "metadata": {
    "colab_type": "text",
    "id": "N_JVLGlz_Muu"
   },
   "source": [
    "### Decidir qué umbral usuar\n",
    "\n",
    "- Primero se debe utilizar la función `cross_val_predict()` para obtener los puntajes de todas las instancias en el conjunto de entrenamiento, especificando devolver puntajes de decisión en lugar de predicciones.\n",
    "- Usar la función `precision_recall_curve` para calcular la precisión y exhaustividad de todos los umbrales posibles.\n",
    "- Finalmente utilizar Matplotlib para trazar la precisión y exhaustividad como funciones del valor umbral."
   ]
  },
  {
   "cell_type": "code",
   "execution_count": 13,
   "metadata": {
    "colab": {
     "base_uri": "https://localhost:8080/",
     "height": 513
    },
    "colab_type": "code",
    "executionInfo": {
     "elapsed": 173772,
     "status": "ok",
     "timestamp": 1597963319158,
     "user": {
      "displayName": "Leonel Fernández",
      "photoUrl": "https://lh3.googleusercontent.com/a-/AOh14GgT0Ke0rCvzSMy3UCWS6KZjvcm2L6_jITkfBs3WGA=s64",
      "userId": "14222787014046437440"
     },
     "user_tz": 300
    },
    "id": "pDYectZpAGju",
    "outputId": "153139a3-6c0f-4cf2-d5d4-1cb5832a7548"
   },
   "outputs": [
    {
     "data": {
      "image/png": "[encoded data removed]",
      "text/plain": [
       "<Figure size 432x288 with 1 Axes>"
      ]
     },
     "metadata": {
      "needs_background": "light"
     },
     "output_type": "display_data"
    },
    {
     "data": {
      "image/png": "[encoded data removed]",
      "text/plain": [
       "<Figure size 432x288 with 1 Axes>"
      ]
     },
     "metadata": {
      "needs_background": "light"
     },
     "output_type": "display_data"
    }
   ],
   "source": [
    "y_scores = cross_val_predict(sgd_clf, X_train, y_train_5, cv=3, method='decision_function')\n",
    "\n",
    "from sklearn.metrics import precision_recall_curve\n",
    "precisions, recalls, thresholds = precision_recall_curve(y_train_5, y_scores)\n",
    "\n",
    "def plot_precision_recall_vs_threshold(precisions, recalls, thresholds):\n",
    "  plt.plot(thresholds, precisions[:-1], \"b--\", label=\"Precision\")\n",
    "  plt.plot(thresholds, recalls[:-1], \"g-\", label=\"Recall\")\n",
    "\n",
    "plot_precision_recall_vs_threshold(precisions, recalls, thresholds)\n",
    "plt.show()\n",
    "plt.plot(recalls, precisions)\n",
    "plt.show()"
   ]
  },
  {
   "cell_type": "markdown",
   "metadata": {
    "colab_type": "text",
    "id": "AkEXHyGRV8E3"
   },
   "source": [
    "Si se decide apuntar a un cierto puntaje de precisión, por ejemplo 90%, se necesita conocer con el primer gráfico que cantidad de umbral se necesita para llegar, para ello la función `np.argmax()` dará el primer índice del valor máximo."
   ]
  },
  {
   "cell_type": "code",
   "execution_count": 14,
   "metadata": {
    "colab": {
     "base_uri": "https://localhost:8080/",
     "height": 69
    },
    "colab_type": "code",
    "executionInfo": {
     "elapsed": 173729,
     "status": "ok",
     "timestamp": 1597963319168,
     "user": {
      "displayName": "Leonel Fernández",
      "photoUrl": "https://lh3.googleusercontent.com/a-/AOh14GgT0Ke0rCvzSMy3UCWS6KZjvcm2L6_jITkfBs3WGA=s64",
      "userId": "14222787014046437440"
     },
     "user_tz": 300
    },
    "id": "SDqY-jqLWk9L",
    "outputId": "e816ac63-5524-421a-ed3d-7dfb7193d039"
   },
   "outputs": [
    {
     "name": "stdout",
     "output_type": "stream",
     "text": [
      "3370.0194991439557\n",
      "0.9000345901072293\n",
      "0.4799852425751706\n"
     ]
    }
   ],
   "source": [
    "threshold_90_precision = thresholds[np.argmax(precisions >= 0.9)]\n",
    "print(threshold_90_precision)\n",
    "y_train_pred_90 = (y_scores >= threshold_90_precision)\n",
    "print(precision_score(y_train_5, y_train_pred_90))\n",
    "print(recall_score(y_train_5, y_train_pred_90))"
   ]
  },
  {
   "cell_type": "markdown",
   "metadata": {
    "colab_type": "text",
    "id": "ItsbKfCMX-MV"
   },
   "source": [
    "### La curva ROC\n",
    "La  curva _característica operativa del receptor_ (ROC) es otra herramienta común utilizada con clasificadores binarios, es muy similar a la curva precisión / exhaustividad, pero en lugar de trazar la precisión frente a la recuperación, la curva ROC traza la tasa verdaderos positivos (otra forma de llamarle a la exhaustividad) contra la tasa de falsos positivos (FPR).\n",
    "\n",
    "El FPR es la proporción de instancias negativas que se clasifican incorrectamente como positivas, es igual a 1 - tasa negativa verdadera (TNR), que es la proporción de instancias negativas que se clasifican correctamente como negativas. El TNR también se llama especificidad, por lo tanto, la curva ROC traza sensibilidad (exhaustividad) contra 1 - especificidad.\n",
    "\n",
    "Para traza la curva ROC, primero se usa la función roc_curve() para calcular el TPR y FPR para varios valores de umbral, luego se traza el FPR contra el TPR."
   ]
  },
  {
   "cell_type": "code",
   "execution_count": 15,
   "metadata": {
    "colab": {
     "base_uri": "https://localhost:8080/",
     "height": 265
    },
    "colab_type": "code",
    "executionInfo": {
     "elapsed": 173686,
     "status": "ok",
     "timestamp": 1597963319175,
     "user": {
      "displayName": "Leonel Fernández",
      "photoUrl": "https://lh3.googleusercontent.com/a-/AOh14GgT0Ke0rCvzSMy3UCWS6KZjvcm2L6_jITkfBs3WGA=s64",
      "userId": "14222787014046437440"
     },
     "user_tz": 300
    },
    "id": "H2RKLqmHETbj",
    "outputId": "dcc8c67b-2483-4484-d4d7-ece0a0cfca12"
   },
   "outputs": [
    {
     "data": {
      "image/png": "[encoded data removed]",
      "text/plain": [
       "<Figure size 432x288 with 1 Axes>"
      ]
     },
     "metadata": {
      "needs_background": "light"
     },
     "output_type": "display_data"
    }
   ],
   "source": [
    "from sklearn.metrics import roc_curve\n",
    "\n",
    "fpr, tpr, thresholds = roc_curve(y_train_5, y_scores)\n",
    "\n",
    "def plot_roc_curve(fpr, tpr, label=None):\n",
    "  plt.plot(fpr, tpr, linewidth=2, label=label)\n",
    "  plt.plot([0, 1], [0, 1], 'k--')\n",
    "\n",
    "plot_roc_curve(fpr, tpr)\n",
    "plt.show()"
   ]
  },
  {
   "cell_type": "markdown",
   "metadata": {
    "colab_type": "text",
    "id": "Xst4_2AZGuVd"
   },
   "source": [
    "Una forma de comparar clasificadores es medir el área bajo la curva (AUC). Un clasificador perfecto tendrá un AUC ROC igual a 1, mientras que un clasificador puramente aleatorio tendrá un AUC ROC igual a 0.5.\n",
    "\n",
    "Scikit-Learn proporciona una función para calcular el AUC de ROC."
   ]
  },
  {
   "cell_type": "code",
   "execution_count": 16,
   "metadata": {
    "colab": {
     "base_uri": "https://localhost:8080/",
     "height": 34
    },
    "colab_type": "code",
    "executionInfo": {
     "elapsed": 173953,
     "status": "ok",
     "timestamp": 1597963319493,
     "user": {
      "displayName": "Leonel Fernández",
      "photoUrl": "https://lh3.googleusercontent.com/a-/AOh14GgT0Ke0rCvzSMy3UCWS6KZjvcm2L6_jITkfBs3WGA=s64",
      "userId": "14222787014046437440"
     },
     "user_tz": 300
    },
    "id": "z-NDCeCDG2za",
    "outputId": "8a56eafc-ceae-46f9-f04c-618371c19d8b"
   },
   "outputs": [
    {
     "name": "stdout",
     "output_type": "stream",
     "text": [
      "0.9604938554008616\n"
     ]
    }
   ],
   "source": [
    "from sklearn.metrics import roc_auc_score\n",
    "print(roc_auc_score(y_train_5, y_scores))"
   ]
  },
  {
   "cell_type": "markdown",
   "metadata": {
    "colab_type": "text",
    "id": "DB6UG9uMHWtJ"
   },
   "source": [
    "Dado que la curva ROC es muy similar a la curva de precisión / exhaustividad (PR), puede que surja la duda de cuál usar. Como regla general, se debe preferir la curva PR siempre que la clase positiva sea rara o cuando importen más loa falsos positivos que los falsos negativos, de lo contrario es mejor usar la curva ROC.\n",
    "\n",
    "Existe otro clasificador binario llamado _Random Forest Classifier_ y se puede comparar su curva ROC con la del modelo _Stochastic Gradient Descent_, pero debido a la forma en que funciona no tiene el método decision_function(), en cambio tiene el método predict_proba() que devuelve la matriz que contiene una fila por instancia y una columna por clase, cada una de las cuales contiene la probabilidad de que la instancia dada pertenezca a la clase dada.\n",
    "\n",
    "La función roc_curve() espera etiquetas y puntajes, pero en lugar de puntajes puede darle probabilidades de clase."
   ]
  },
  {
   "cell_type": "code",
   "execution_count": 17,
   "metadata": {
    "colab": {},
    "colab_type": "code",
    "id": "yVGQuDuyJ99Y"
   },
   "outputs": [],
   "source": [
    "from sklearn.ensemble import RandomForestClassifier\n",
    "\n",
    "forest_clf = RandomForestClassifier(random_state=42)\n",
    "y_proba_forest = cross_val_predict(forest_clf, X_train, y_train_5, cv=3, method='predict_proba')"
   ]
  },
  {
   "cell_type": "code",
   "execution_count": 18,
   "metadata": {
    "colab": {
     "base_uri": "https://localhost:8080/",
     "height": 282
    },
    "colab_type": "code",
    "executionInfo": {
     "elapsed": 240403,
     "status": "ok",
     "timestamp": 1597963386007,
     "user": {
      "displayName": "Leonel Fernández",
      "photoUrl": "https://lh3.googleusercontent.com/a-/AOh14GgT0Ke0rCvzSMy3UCWS6KZjvcm2L6_jITkfBs3WGA=s64",
      "userId": "14222787014046437440"
     },
     "user_tz": 300
    },
    "id": "ZZFro4sELTZE",
    "outputId": "2af2045d-16a1-449e-a8fa-0b40258ef13f"
   },
   "outputs": [
    {
     "data": {
      "image/png": "[encoded data removed]",
      "text/plain": [
       "<Figure size 432x288 with 1 Axes>"
      ]
     },
     "metadata": {
      "needs_background": "light"
     },
     "output_type": "display_data"
    },
    {
     "data": {
      "text/plain": [
       "0.9983436731328145"
      ]
     },
     "execution_count": 18,
     "metadata": {},
     "output_type": "execute_result"
    }
   ],
   "source": [
    "y_scores_forest = y_proba_forest[:, 1]\n",
    "fpr_forest, tpr_forest, threshold_forest = roc_curve(y_train_5, y_scores_forest)\n",
    "\n",
    "plt.plot(fpr, tpr, \"b:\", label=\"SCG\")\n",
    "plot_roc_curve(fpr_forest, tpr_forest, \"Random Forest\")\n",
    "plt.legend(loc='lower right')\n",
    "plt.show()\n",
    "\n",
    "roc_auc_score(y_train_5, y_scores_forest)"
   ]
  },
  {
   "cell_type": "markdown",
   "metadata": {
    "colab_type": "text",
    "id": "p0lvQ5vqBmZh"
   },
   "source": [
    "## Clasificación multiclase\n",
    "\n",
    "Una forma de crear un sistema que pueda clasificar las imágenes de dígitos en 10 clases consiste en entrenar 10 clasificadores binarios, uno para cada dígito, luego, cuando se desee clasificar una imagen, se obtiene el puntaje de decisión de cada clasificador para esa imagen y se selecciona la clase cuyo clasificador supera el puntaje más alto, esto se llama uno contra el resto _OvR_. Otra estrategia es entrenar un clasificador binario para cada par de dígitos, esto se llama uno contra uno _OvO_, si hay $n$ clases, se necesita entrenar $n*(n-1)/2$ clasificadores.\n",
    "\n",
    "Algunos algoritmos escalan mal con el tamaño del conjunto de entrenamiento, para estos algoritmos se prefiere _OvO_ porque es más rápido entrenar muchos clasificadores en conjunto de entrenamiento pequeños que entrenar pocos clasificadores en conjunto de entrenamiento grandes.\n",
    "\n",
    "Scikit-Learn detecta cuándo se intenta utilizar un algoritmo de clasificación binaria para una tarea de clasificación de varias clases, y ejecuta automáticamente _OvR_ u _OvO_, según el algoritmo.\n",
    "\n",
    "En el clasificador de máquinas de vectores _SVC_ utiliza la estrategia de _OvO_, y su método `decision_function()` devuelve las puntuaciones por instancia."
   ]
  },
  {
   "cell_type": "code",
   "execution_count": 19,
   "metadata": {
    "colab": {
     "base_uri": "https://localhost:8080/",
     "height": 34
    },
    "colab_type": "code",
    "executionInfo": {
     "elapsed": 546985,
     "status": "ok",
     "timestamp": 1597964348450,
     "user": {
      "displayName": "Leonel Fernández",
      "photoUrl": "https://lh3.googleusercontent.com/a-/AOh14GgT0Ke0rCvzSMy3UCWS6KZjvcm2L6_jITkfBs3WGA=s64",
      "userId": "14222787014046437440"
     },
     "user_tz": 300
    },
    "id": "vGBbdSrpDxWf",
    "outputId": "52a1607a-a099-4390-e127-96d60db6fa9c"
   },
   "outputs": [
    {
     "name": "stdout",
     "output_type": "stream",
     "text": [
      "[5]\n"
     ]
    }
   ],
   "source": [
    "from sklearn.svm import SVC\n",
    "svm_clf = SVC() #Clasificador de máquina de vectores de soporte\n",
    "svm_clf.fit(X_train, y_train)\n",
    "print(svm_clf.predict(X_train[35].reshape(1,-1)))"
   ]
  },
  {
   "cell_type": "code",
   "execution_count": 20,
   "metadata": {
    "colab": {
     "base_uri": "https://localhost:8080/",
     "height": 69
    },
    "colab_type": "code",
    "executionInfo": {
     "elapsed": 733,
     "status": "ok",
     "timestamp": 1597964484914,
     "user": {
      "displayName": "Leonel Fernández",
      "photoUrl": "https://lh3.googleusercontent.com/a-/AOh14GgT0Ke0rCvzSMy3UCWS6KZjvcm2L6_jITkfBs3WGA=s64",
      "userId": "14222787014046437440"
     },
     "user_tz": 300
    },
    "id": "97khV97LGRAQ",
    "outputId": "d4f423e0-a1dc-4375-ecad-e08c04a8c8c8"
   },
   "outputs": [
    {
     "name": "stdout",
     "output_type": "stream",
     "text": [
      "[[3.78985412 8.22305373 4.79877822 7.19363953 1.77563021 9.31196193\n",
      "  0.73229586 0.72374858 6.07316208 1.7322781 ]]\n",
      "[0 1 2 3 4 5 6 7 8 9]\n"
     ]
    }
   ],
   "source": [
    "print(svm_clf.decision_function(X_train[35].reshape(1,-1)))\n",
    "print(svm_clf.classes_)"
   ]
  },
  {
   "cell_type": "markdown",
   "metadata": {
    "colab_type": "text",
    "id": "R-dXv1K2Gz_z"
   },
   "source": [
    "___Nota:___ cuando se entrena un clasificador, almacena la lista de clases objetivo en su atributo `classes_`, ordenado por valor.\n",
    "\n",
    "Si se desea obligar a Scikit-Learn a usar _OvO_ u _OvR_, se puede usar las clases `OneVsOneClassifier` u `OneVsRestClassifier` creando una instancia y pasando el clasificador a su constructor."
   ]
  },
  {
   "cell_type": "code",
   "execution_count": 21,
   "metadata": {
    "colab": {},
    "colab_type": "code",
    "id": "sEZ3J1yPH1eM"
   },
   "outputs": [
    {
     "name": "stdout",
     "output_type": "stream",
     "text": [
      "[5]\n",
      "10\n"
     ]
    }
   ],
   "source": [
    "from sklearn.svm import SVC\n",
    "from sklearn.multiclass import OneVsRestClassifier\n",
    "\n",
    "ovr_clf = OneVsRestClassifier(SVC())\n",
    "ovr_clf.fit(X_train, y_train)\n",
    "print(ovr_clf.predict(X_train[35].reshape(1,-1)))\n",
    "print(len(ovr_clf.estimators_))"
   ]
  },
  {
   "cell_type": "markdown",
   "metadata": {
    "colab_type": "text",
    "id": "5fZQQckJInJI"
   },
   "source": [
    "Los modelos SGDClassifier y RandomForestClassifier también se pueden entrenar para una clasificación multiclase."
   ]
  },
  {
   "cell_type": "code",
   "execution_count": 22,
   "metadata": {
    "colab": {
     "base_uri": "https://localhost:8080/",
     "height": 445
    },
    "colab_type": "code",
    "executionInfo": {
     "elapsed": 422973,
     "status": "error",
     "timestamp": 1598029052688,
     "user": {
      "displayName": "Leonel Fernández",
      "photoUrl": "https://lh3.googleusercontent.com/a-/AOh14GgT0Ke0rCvzSMy3UCWS6KZjvcm2L6_jITkfBs3WGA=s64",
      "userId": "14222787014046437440"
     },
     "user_tz": 300
    },
    "id": "Yqz46-8uI3-v",
    "outputId": "3d4a8a75-fdca-4629-9f78-294c08ef2d99"
   },
   "outputs": [
    {
     "name": "stdout",
     "output_type": "stream",
     "text": [
      "[5]\n",
      "[[-14400.67322862 -11585.51697742  -7766.21413227   -482.92574848\n",
      "  -10954.47634734    588.01312633 -23848.72014809 -13492.71061272\n",
      "   -2651.17639341 -10108.09543083]]\n",
      "[0.8983 0.891  0.9018]\n"
     ]
    }
   ],
   "source": [
    "from sklearn.linear_model import SGDClassifier\n",
    "from sklearn.model_selection import cross_val_score\n",
    "sgd_clf = SGDClassifier(random_state=42)\n",
    "sgd_clf.fit(X_train, y_train)\n",
    "print(sgd_clf.predict(X_train[35].reshape(1,-1)))\n",
    "print(sgd_clf.decision_function(X_train[35].reshape(1,-1)))\n",
    "cross_val_score(sgd_clf, X_train, y_train, cv=3, scoring=\"accuracy\")\n",
    "\n",
    "from sklearn.preprocessing import StandardScaler\n",
    "scaler = StandardScaler()\n",
    "X_train_scaled = scaler.fit_transform(X_train.astype(np.float64))\n",
    "print(cross_val_score(sgd_clf, X_train_scaled, y_train, cv=3, scoring=\"accuracy\"))"
   ]
  },
  {
   "cell_type": "markdown",
   "metadata": {
    "colab_type": "text",
    "id": "ZOnQc_-zKWno"
   },
   "source": [
    "### Análisis de errores\n",
    "\n",
    "En este punto se debe explorar las opciones de preparación de datos, probar varios modelos (pre seleccionando los mejores y ajustando sus hipeparámetros con `GridSearchCV`) y automatizar tanto como sea posible.\n",
    "\n",
    "Asumiendo que se ha encontrado un modelo prometedor y se desea encontrar formas de mejorarlo, una forma de hacerlo es analizar los tipos de errores que comete.\n",
    "\n",
    "Primero se puede observar la matriz de confusión. A menudo es más conveniente mirar una representación de imagen de la matriz de confusión."
   ]
  },
  {
   "cell_type": "code",
   "execution_count": 23,
   "metadata": {
    "colab": {
     "base_uri": "https://localhost:8080/",
     "height": 449
    },
    "colab_type": "code",
    "executionInfo": {
     "elapsed": 828,
     "status": "ok",
     "timestamp": 1598030293029,
     "user": {
      "displayName": "Leonel Fernández",
      "photoUrl": "https://lh3.googleusercontent.com/a-/AOh14GgT0Ke0rCvzSMy3UCWS6KZjvcm2L6_jITkfBs3WGA=s64",
      "userId": "14222787014046437440"
     },
     "user_tz": 300
    },
    "id": "Ir25TV0Z4V-N",
    "outputId": "4dac8e52-fe95-46bd-8a9d-ef4ffaed1d5d"
   },
   "outputs": [
    {
     "name": "stdout",
     "output_type": "stream",
     "text": [
      "[[5635    0   61   10   16   50   46    7   66   32]\n",
      " [   3 6393   95   21   16   47   15   27  109   16]\n",
      " [  72   56 5174   89   69   39  163   66  212   18]\n",
      " [  58   32  217 4941   23  441   32   56  216  115]\n",
      " [  11   26   46    6 5298   26   73   32   87  237]\n",
      " [  68   23   58  150   83 4606  174   26  152   81]\n",
      " [  40   13   56    6   22  113 5625    5   36    2]\n",
      " [  23   24  103   36  124   40   10 5228   75  602]\n",
      " [  40  101  158  122   49  457   77   35 4666  146]\n",
      " [  33   18   66   83  515  127    4  485  166 4452]]\n"
     ]
    },
    {
     "data": {
      "image/png": "[encoded data removed]",
      "text/plain": [
       "<Figure size 288x288 with 1 Axes>"
      ]
     },
     "metadata": {
      "needs_background": "light"
     },
     "output_type": "display_data"
    }
   ],
   "source": [
    "from sklearn.model_selection import cross_val_predict\n",
    "from sklearn.metrics import confusion_matrix\n",
    "import matplotlib.pyplot as plt\n",
    "\n",
    "y_train_pred = cross_val_predict(sgd_clf, X_train, y_train, cv=3)\n",
    "conf_mx = confusion_matrix(y_train, y_train_pred)\n",
    "print(conf_mx)\n",
    "plt.matshow(conf_mx, cmap=plt.cm.gray)\n",
    "plt.show()"
   ]
  },
  {
   "cell_type": "markdown",
   "metadata": {
    "colab_type": "text",
    "id": "SwsUH6IADIBW"
   },
   "source": [
    "Para observar la trama de errores, primero, se debe dividir cada valor en la matriz de confusión por el número de imágenes en la clase correspondiente para poder comparar las tasas de error en lugar de los números absolutos de errores (lo que hará que las clases abundantes se vean injustamente mal).\n",
    "\n",
    "Se debe rellenar la diagonal con ceros para mantener solo los errores."
   ]
  },
  {
   "cell_type": "code",
   "execution_count": 24,
   "metadata": {
    "colab": {
     "base_uri": "https://localhost:8080/",
     "height": 275
    },
    "colab_type": "code",
    "executionInfo": {
     "elapsed": 575,
     "status": "ok",
     "timestamp": 1598030915646,
     "user": {
      "displayName": "Leonel Fernández",
      "photoUrl": "https://lh3.googleusercontent.com/a-/AOh14GgT0Ke0rCvzSMy3UCWS6KZjvcm2L6_jITkfBs3WGA=s64",
      "userId": "14222787014046437440"
     },
     "user_tz": 300
    },
    "id": "ef2eHcpHD014",
    "outputId": "8771cae1-081e-4684-b66c-a6e2920500c6"
   },
   "outputs": [
    {
     "data": {
      "image/png": "[encoded data removed]",
      "text/plain": [
       "<Figure size 288x288 with 1 Axes>"
      ]
     },
     "metadata": {
      "needs_background": "light"
     },
     "output_type": "display_data"
    }
   ],
   "source": [
    "row_sums = conf_mx.sum(axis=1, keepdims=True)\n",
    "norm_conf_mx = conf_mx / row_sums\n",
    "\n",
    "np.fill_diagonal(norm_conf_mx, 0)\n",
    "plt.matshow(norm_conf_mx, cmap=plt.cm.gray)\n",
    "plt.show()"
   ]
  },
  {
   "cell_type": "markdown",
   "metadata": {
    "colab_type": "text",
    "id": "QHzOzbPfFNFn"
   },
   "source": [
    "En la imagen se puede observar los errores que comete el clasificador (las filas representan las clases reales y las columnas representan clases predichas). El análisis de la matriz de confusión a menudo brinda información sobre formas de mejorar el clasificador. Se podrían intentar algunas de las siguientes recomendaciones:\n",
    "\n",
    "- Recopilar más datos de entrenamiento.\n",
    "- Diseñar nuevas características que ayudarían al clasificador.\n",
    " - Escribir un algoritmo para contar el número de bucles cerrados.\n",
    " - Preprocesar las imágenes para hacer que algunos patrones se destaquen.\n",
    "- Análisis individual de errores.\n",
    "\n",
    "En este caso así sería el análisis de errores individuales.\n",
    "\n",
    "Es difícil entender por qué el clasificador comete errores. La razón en el ejemplo es que se utiliza un simple `SGDClassifier`, que es un modelo lineal, todo lo que hace es asignar un peso por clase a cada píxel, y cuando ve una nueva imagen simplemente resume las intensidades de píxeles ponderados para obtener una puntuación para cada clases."
   ]
  },
  {
   "cell_type": "code",
   "execution_count": 25,
   "metadata": {
    "colab": {},
    "colab_type": "code",
    "executionInfo": {
     "elapsed": 7573,
     "status": "ok",
     "timestamp": 1598037759451,
     "user": {
      "displayName": "Leonel Fernández",
      "photoUrl": "https://lh3.googleusercontent.com/a-/AOh14GgT0Ke0rCvzSMy3UCWS6KZjvcm2L6_jITkfBs3WGA=s64",
      "userId": "14222787014046437440"
     },
     "user_tz": 300
    },
    "id": "VzmL5Y7Pdu9Q"
   },
   "outputs": [],
   "source": [
    "import matplotlib as mpl\n",
    "import matplotlib.pyplot as plt\n",
    "\n",
    "def plot_digits(instances, images_per_row=10, **options):\n",
    "    size = 28\n",
    "    images_per_row = min(len(instances), images_per_row)\n",
    "    images = [instance.reshape(size,size) for instance in instances]\n",
    "    n_rows = (len(instances) - 1) // images_per_row + 1\n",
    "    row_images = []\n",
    "    n_empty = n_rows * images_per_row - len(instances)\n",
    "    images.append(np.zeros((size, size * n_empty)))\n",
    "    for row in range(n_rows):\n",
    "        rimages = images[row * images_per_row : (row + 1) * images_per_row]\n",
    "        row_images.append(np.concatenate(rimages, axis=1))\n",
    "    image = np.concatenate(row_images, axis=0)\n",
    "    plt.imshow(image, cmap = mpl.cm.binary, **options)\n",
    "    plt.axis(\"off\")"
   ]
  },
  {
   "cell_type": "code",
   "execution_count": 26,
   "metadata": {
    "colab": {
     "base_uri": "https://localhost:8080/",
     "height": 466
    },
    "colab_type": "code",
    "executionInfo": {
     "elapsed": 1543,
     "status": "ok",
     "timestamp": 1598034610677,
     "user": {
      "displayName": "Leonel Fernández",
      "photoUrl": "https://lh3.googleusercontent.com/a-/AOh14GgT0Ke0rCvzSMy3UCWS6KZjvcm2L6_jITkfBs3WGA=s64",
      "userId": "14222787014046437440"
     },
     "user_tz": 300
    },
    "id": "UhLV7UHQHV53",
    "outputId": "2707009f-eb86-4448-92d1-4d36e54b5a54"
   },
   "outputs": [
    {
     "data": {
      "image/png": "[encoded data removed]",
      "text/plain": [
       "<Figure size 576x576 with 4 Axes>"
      ]
     },
     "metadata": {
      "needs_background": "light"
     },
     "output_type": "display_data"
    }
   ],
   "source": [
    "cl_a, cl_b = 3, 5\n",
    "X_aa = X_train[(y_train == cl_a) & (y_train_pred == cl_a)]\n",
    "X_ab = X_train[(y_train == cl_a) & (y_train_pred == cl_b)]\n",
    "X_ba = X_train[(y_train == cl_b) & (y_train_pred == cl_a)]\n",
    "X_bb = X_train[(y_train == cl_b) & (y_train_pred == cl_b)]\n",
    "\n",
    "plt.figure(figsize=(8,8))\n",
    "plt.subplot(221); plot_digits(X_aa[:25], images_per_row=5)\n",
    "plt.subplot(222); plot_digits(X_ab[:25], images_per_row=5)\n",
    "plt.subplot(223); plot_digits(X_ba[:25], images_per_row=5)\n",
    "plt.subplot(224); plot_digits(X_bb[:25], images_per_row=5)"
   ]
  },
  {
   "cell_type": "markdown",
   "metadata": {
    "colab_type": "text",
    "id": "liEBYAAOTtTr"
   },
   "source": [
    "## Clasificación Multilabel\n",
    "\n",
    "Un clasificador multilabel genera varias clases para cada instancia.\n",
    "\n",
    "Por ejemplo un clasificador de reconocimiento facial que debe adjuntar una etiqueta por persona que reconoce. Suponga que el clasificador ha sido entrenado para reconocer tres caras, luego cuando se muestra una imagen con dos caras en el clasificador debería aparecer `[1, 0, 1]` que significa que se reconocieron dos caras.\n",
    "\n",
    "Para el ejemplo de los dígitos, se crea una nueva matriz `y_multilabel` que contiene dos etiquetas de destino para cada imagen de dígitos: la primera indica si el dígito es grande (7, 8 o 9) y la segunda indica si es impar o no. Se utilizará un KNeighboursClassifier que admite la clasificación de múltiples capas y se entrena con la matriz de objetivos múltiples."
   ]
  },
  {
   "cell_type": "code",
   "execution_count": 27,
   "metadata": {
    "colab": {
     "base_uri": "https://localhost:8080/",
     "height": 34
    },
    "colab_type": "code",
    "executionInfo": {
     "elapsed": 15378,
     "status": "ok",
     "timestamp": 1598037357998,
     "user": {
      "displayName": "Leonel Fernández",
      "photoUrl": "https://lh3.googleusercontent.com/a-/AOh14GgT0Ke0rCvzSMy3UCWS6KZjvcm2L6_jITkfBs3WGA=s64",
      "userId": "14222787014046437440"
     },
     "user_tz": 300
    },
    "id": "m9NWfNRjV5vQ",
    "outputId": "8a415cd6-97b7-4b97-8a21-51031eff6ead"
   },
   "outputs": [
    {
     "data": {
      "text/plain": [
       "array([[False,  True]])"
      ]
     },
     "execution_count": 27,
     "metadata": {},
     "output_type": "execute_result"
    }
   ],
   "source": [
    "from sklearn.neighbors import KNeighborsClassifier\n",
    "\n",
    "y_train_large = (y_train >= 7)\n",
    "y_train_odd = (y_train % 2 == 1)\n",
    "y_multilabel = np.c_[y_train_large, y_train_odd]\n",
    "\n",
    "knn_clf = KNeighborsClassifier()\n",
    "knn_clf.fit(X_train, y_multilabel)\n",
    "knn_clf.predict(X_train[35].reshape(1,-1))"
   ]
  },
  {
   "cell_type": "markdown",
   "metadata": {
    "colab_type": "text",
    "id": "RKRcEZb5YaUz"
   },
   "source": [
    "Hay muchas formas de evaluar un clasificador de múltiples etiquetas, y seleccionar la métrica correcta realmente depende del proyecto. Un enfoque es medir el puntaje $F_1$ para cada etiqueta individual, luego simplemente calcular el puntaje promedio.\n",
    "\n",
    "Sin embargo, esto supone que todas las etiquetas son igualmente importantes, lo cual puede no ser el caso. Una opción simple es dar a cada etiqueta un peso igual a su apoyo (número de instancias con esa etiqueta de destino)."
   ]
  },
  {
   "cell_type": "code",
   "execution_count": 28,
   "metadata": {
    "colab": {},
    "colab_type": "code",
    "id": "i1-o5zaNYvEu"
   },
   "outputs": [
    {
     "data": {
      "text/plain": [
       "0.976410265560605"
      ]
     },
     "execution_count": 28,
     "metadata": {},
     "output_type": "execute_result"
    }
   ],
   "source": [
    "from sklearn.metrics import f1_score\n",
    "from sklearn.model_selection import cross_val_predict\n",
    "y_train_knn_pred = cross_val_predict(knn_clf, X_train, y_multilabel, cv=3)\n",
    "f1_score(y_multilabel, y_train_knn_pred, average=\"macro\")"
   ]
  },
  {
   "cell_type": "markdown",
   "metadata": {
    "colab_type": "text",
    "id": "xNz8xvdwZ_KB"
   },
   "source": [
    "## Clasificación de salida múltiple\n",
    "\n",
    "La clasificación de salida múltiple (multioutput classification) es simplemente una generalización de la clasificación de múltiples etiquetas donde cada etiqueta puede ser multiclase (puede tener más de dos valores posibles).\n",
    "\n",
    "Por ejemplo un sistema que elimine el ruido de las imágenes tomando como entrada una imagen de dígitos ruidosa y (con suerte) generará una imagen de dígitos limpia.\n",
    "\n",
    "___Nota:___ la línea entre clasificación y regresión a veces es borrosa, además, los sistemas de salida múltiple no se limitan a tareas de clasificación; incluso se podría tener un sistema que genere múltiples etiquetas por instancia, incluidas las etiquetas de clase y las etiquetas de valor.\n",
    "\n",
    "La función `randint()` agrega ruido a los píxeles."
   ]
  },
  {
   "cell_type": "code",
   "execution_count": 29,
   "metadata": {
    "colab": {
     "base_uri": "https://localhost:8080/",
     "height": 744
    },
    "colab_type": "code",
    "executionInfo": {
     "elapsed": 19980,
     "status": "ok",
     "timestamp": 1598038272212,
     "user": {
      "displayName": "Leonel Fernández",
      "photoUrl": "https://lh3.googleusercontent.com/a-/AOh14GgT0Ke0rCvzSMy3UCWS6KZjvcm2L6_jITkfBs3WGA=s64",
      "userId": "14222787014046437440"
     },
     "user_tz": 300
    },
    "id": "jb6O9jb6bznL",
    "outputId": "dab13f6c-dc3e-4485-a90b-7943217df826"
   },
   "outputs": [
    {
     "data": {
      "image/png": "[encoded data removed]",
      "text/plain": [
       "<Figure size 432x288 with 1 Axes>"
      ]
     },
     "metadata": {
      "needs_background": "light"
     },
     "output_type": "display_data"
    },
    {
     "data": {
      "image/png": "[encoded data removed]",
      "text/plain": [
       "<Figure size 432x288 with 1 Axes>"
      ]
     },
     "metadata": {
      "needs_background": "light"
     },
     "output_type": "display_data"
    },
    {
     "data": {
      "image/png": "[encoded data removed]",
      "text/plain": [
       "<Figure size 432x288 with 1 Axes>"
      ]
     },
     "metadata": {
      "needs_background": "light"
     },
     "output_type": "display_data"
    }
   ],
   "source": [
    "def show_number(dataset, number):\n",
    "  plt.imshow(dataset[number].reshape(28,28), cmap='binary')\n",
    "  plt.show()\n",
    "\n",
    "from sklearn.neighbors import KNeighborsClassifier\n",
    "knn_clf = KNeighborsClassifier()\n",
    "\n",
    "noise = np.random.randint(0, 100, (len(X_train), 784))\n",
    "X_train_mod = X_train + noise\n",
    "noise = np.random.randint(0, 100, (len(X_test), 784))\n",
    "X_test_mod = X_test + noise\n",
    "y_train_mod = X_train\n",
    "y_test_mod = X_test\n",
    "\n",
    "show_number(X_train_mod, 1)\n",
    "show_number(y_train_mod, 1)\n",
    "\n",
    "knn_clf.fit(X_train_mod, y_train_mod)\n",
    "clean_digit = knn_clf.predict(X_train[1].reshape(1,-1))\n",
    "plot_digits(clean_digit)"
   ]
  }
 ],
 "metadata": {
  "colab": {
   "authorship_tag": "ABX9TyPjeG0fPJrHSfdlzCJpBIQl",
   "name": "Clasificiación.ipynb",
   "provenance": []
  },
  "kernelspec": {
   "display_name": "Python 3",
   "language": "python",
   "name": "python3"
  },
  "language_info": {
   "codemirror_mode": {
    "name": "ipython",
    "version": 3
   },
   "file_extension": ".py",
   "mimetype": "text/x-python",
   "name": "python",
   "nbconvert_exporter": "python",
   "pygments_lexer": "ipython3",
   "version": "3.8.3"
  }
 },
 "nbformat": 4,
 "nbformat_minor": 1
}
